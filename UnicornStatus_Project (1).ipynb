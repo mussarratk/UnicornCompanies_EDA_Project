{
 "cells": [
  {
   "cell_type": "markdown",
   "id": "a338d392",
   "metadata": {
    "id": "1WD1hC5MTRMS"
   },
   "source": [
    "# Activity: Discover what is in your dataset"
   ]
  },
  {
   "cell_type": "markdown",
   "id": "82d591a8",
   "metadata": {
    "id": "ee31943b-274e-4c28-bce6-155cb6f4c334"
   },
   "source": [
    "## Introduction\n",
    "\n",
    "In this activity, you will discover characteristics of a dataset and use visualizations to analyze the data. This will develop and strengthen your skills in **exploratory data analysis (EDA)** and your knowledge of functions that allow you to explore and visualize data. \n",
    "\n",
    "EDA is an essential process in a data science workflow. As a data professional, you will need to conduct this process to better understand the data at hand and determine how it can be used to solve the problem you want to address. This activity will give you an opportunity to practice that process and prepare you for EDA in future projects.\n",
    "\n",
    "In this activity, you are a member of an analytics team that provides insights to an investing firm. To help them decide which companies to invest in next, the firm wants insights into **unicorn companies**–companies that are valued at over one billion dollars. The data you will use for this task provides information on over 1,000 unicorn companies, including their industry, country, year founded, and select investors. You will use this information to gain insights into how and when companies reach this prestigious milestone and to make recommentations for next steps to the investing firm."
   ]
  },
  {
   "cell_type": "markdown",
   "id": "d0948ebf",
   "metadata": {
    "id": "4bb9630e-b940-4835-a389-d39def1fa848"
   },
   "source": [
    "## Step 1: Imports"
   ]
  },
  {
   "cell_type": "markdown",
   "id": "d56bf65a",
   "metadata": {
    "id": "bc180686-4ae2-47ea-a292-3588ac60a820"
   },
   "source": [
    "### Import libraries and packages \n",
    "\n",
    "First, import relevant Python libraries and modules. Use the `pandas` library and the `matplotlib.pyplot` module."
   ]
  },
  {
   "cell_type": "code",
   "execution_count": 1,
   "id": "faca6475",
   "metadata": {
    "id": "8e7f1f2c-bbcc-4f3c-b927-b090ee8334c4"
   },
   "outputs": [],
   "source": [
    "# Import libraries and packages\n",
    "import pandas as pd\n",
    "import matplotlib.pyplot as plt"
   ]
  },
  {
   "cell_type": "markdown",
   "id": "f04c31bc",
   "metadata": {
    "id": "7d29c6bd-f194-46bb-b794-56dc20130473"
   },
   "source": [
    "### Load the dataset into a DataFrame\n",
    "\n",
    "The dataset provided is in the form of a csv file named `Unicorn_Companies.csv` and contains a subset of data on unicorn companies. As shown in this cell, the dataset has been automatically loaded in for you. You do not need to download the .csv file, or provide more code, in order to access the dataset and proceed with this lab. Please continue with this activity by completing the following instructions."
   ]
  },
  {
   "cell_type": "code",
   "execution_count": 2,
   "id": "d250cee9",
   "metadata": {
    "id": "3bd40d44-080f-4e49-b0c2-160dedc3c4df"
   },
   "outputs": [],
   "source": [
    "# RUN THIS CELL TO IMPORT YOUR DATA.\n",
    "\n",
    "### YOUR CODE HERE ###\n",
    "companies = pd.read_csv(\"Unicorn_Companies.csv\")"
   ]
  },
  {
   "cell_type": "markdown",
   "id": "eb0e903d",
   "metadata": {
    "id": "lXPOJ3LO-v7J",
    "jp-MarkdownHeadingCollapsed": true,
    "tags": []
   },
   "source": [
    "<details>\n",
    "  <summary><h4><strong>Hint 1</strong></h4></summary>\n",
    "\n",
    "Refer to what you learned about [loading data](https://www.coursera.org/learn/go-beyond-the-numbers-translate-data-into-insight/supplement/MdTG2/reference-guide-import-datasets-using-python) in Python.\n",
    "\n",
    "</details>"
   ]
  },
  {
   "cell_type": "markdown",
   "id": "6ac58d64",
   "metadata": {
    "id": "O5TEL8Ty-v7L",
    "jp-MarkdownHeadingCollapsed": true,
    "tags": []
   },
   "source": [
    "<details>\n",
    "  <summary><h4><strong>Hint 2</strong></h4></summary>\n",
    "\n",
    "Use the function in the `pandas` library that allows you to read data from a csv file and load the data into a DataFrame.\n",
    " \n",
    "\n",
    "</details>"
   ]
  },
  {
   "cell_type": "markdown",
   "id": "9daed371",
   "metadata": {
    "id": "kEx2SsH2-v7M",
    "jp-MarkdownHeadingCollapsed": true,
    "tags": []
   },
   "source": [
    "<details>\n",
    "  <summary><h4><strong>Hint 3</strong></h4></summary>\n",
    "\n",
    "Use the `read_csv()` function from the `pandas` library. \n",
    "\n",
    "</details>"
   ]
  },
  {
   "cell_type": "markdown",
   "id": "98915c12",
   "metadata": {
    "id": "95bf39c9-d05c-4324-a40b-bc692607b61b"
   },
   "source": [
    "## Step 2: Data exploration"
   ]
  },
  {
   "cell_type": "markdown",
   "id": "ae300526",
   "metadata": {
    "id": "26561614-8e9b-4840-8dbf-b50131ae5314",
    "tags": []
   },
   "source": [
    "### Display the first 10 rows of the data\n",
    "\n",
    "Next, explore the dataset and answer questions to guide your exploration and analysis of the data. To begin, display the first 10 rows of the data to get an understanding of how the dataset is structured."
   ]
  },
  {
   "cell_type": "code",
   "execution_count": 3,
   "id": "70d39b0a",
   "metadata": {
    "id": "ad5210a5-7a64-4991-b004-de818cfaf506"
   },
   "outputs": [
    {
     "data": {
      "text/html": [
       "<div>\n",
       "<style scoped>\n",
       "    .dataframe tbody tr th:only-of-type {\n",
       "        vertical-align: middle;\n",
       "    }\n",
       "\n",
       "    .dataframe tbody tr th {\n",
       "        vertical-align: top;\n",
       "    }\n",
       "\n",
       "    .dataframe thead th {\n",
       "        text-align: right;\n",
       "    }\n",
       "</style>\n",
       "<table border=\"1\" class=\"dataframe\">\n",
       "  <thead>\n",
       "    <tr style=\"text-align: right;\">\n",
       "      <th></th>\n",
       "      <th>Company</th>\n",
       "      <th>Valuation</th>\n",
       "      <th>Date Joined</th>\n",
       "      <th>Industry</th>\n",
       "      <th>City</th>\n",
       "      <th>Country/Region</th>\n",
       "      <th>Continent</th>\n",
       "      <th>Year Founded</th>\n",
       "      <th>Funding</th>\n",
       "      <th>Select Investors</th>\n",
       "    </tr>\n",
       "  </thead>\n",
       "  <tbody>\n",
       "    <tr>\n",
       "      <th>0</th>\n",
       "      <td>Bytedance</td>\n",
       "      <td>$180B</td>\n",
       "      <td>4/7/17</td>\n",
       "      <td>Artificial intelligence</td>\n",
       "      <td>Beijing</td>\n",
       "      <td>China</td>\n",
       "      <td>Asia</td>\n",
       "      <td>2012</td>\n",
       "      <td>$8B</td>\n",
       "      <td>Sequoia Capital China, SIG Asia Investments, S...</td>\n",
       "    </tr>\n",
       "    <tr>\n",
       "      <th>1</th>\n",
       "      <td>SpaceX</td>\n",
       "      <td>$100B</td>\n",
       "      <td>12/1/12</td>\n",
       "      <td>Other</td>\n",
       "      <td>Hawthorne</td>\n",
       "      <td>United States</td>\n",
       "      <td>North America</td>\n",
       "      <td>2002</td>\n",
       "      <td>$7B</td>\n",
       "      <td>Founders Fund, Draper Fisher Jurvetson, Rothen...</td>\n",
       "    </tr>\n",
       "    <tr>\n",
       "      <th>2</th>\n",
       "      <td>SHEIN</td>\n",
       "      <td>$100B</td>\n",
       "      <td>7/3/18</td>\n",
       "      <td>E-commerce &amp; direct-to-consumer</td>\n",
       "      <td>Shenzhen</td>\n",
       "      <td>China</td>\n",
       "      <td>Asia</td>\n",
       "      <td>2008</td>\n",
       "      <td>$2B</td>\n",
       "      <td>Tiger Global Management, Sequoia Capital China...</td>\n",
       "    </tr>\n",
       "    <tr>\n",
       "      <th>3</th>\n",
       "      <td>Stripe</td>\n",
       "      <td>$95B</td>\n",
       "      <td>1/23/14</td>\n",
       "      <td>Fintech</td>\n",
       "      <td>San Francisco</td>\n",
       "      <td>United States</td>\n",
       "      <td>North America</td>\n",
       "      <td>2010</td>\n",
       "      <td>$2B</td>\n",
       "      <td>Khosla Ventures, LowercaseCapital, capitalG</td>\n",
       "    </tr>\n",
       "    <tr>\n",
       "      <th>4</th>\n",
       "      <td>Klarna</td>\n",
       "      <td>$46B</td>\n",
       "      <td>12/12/11</td>\n",
       "      <td>Fintech</td>\n",
       "      <td>Stockholm</td>\n",
       "      <td>Sweden</td>\n",
       "      <td>Europe</td>\n",
       "      <td>2005</td>\n",
       "      <td>$4B</td>\n",
       "      <td>Institutional Venture Partners, Sequoia Capita...</td>\n",
       "    </tr>\n",
       "    <tr>\n",
       "      <th>5</th>\n",
       "      <td>Canva</td>\n",
       "      <td>$40B</td>\n",
       "      <td>1/8/18</td>\n",
       "      <td>Internet software &amp; services</td>\n",
       "      <td>Surry Hills</td>\n",
       "      <td>Australia</td>\n",
       "      <td>Oceania</td>\n",
       "      <td>2012</td>\n",
       "      <td>$572M</td>\n",
       "      <td>Sequoia Capital China, Blackbird Ventures, Mat...</td>\n",
       "    </tr>\n",
       "    <tr>\n",
       "      <th>6</th>\n",
       "      <td>Checkout.com</td>\n",
       "      <td>$40B</td>\n",
       "      <td>5/2/19</td>\n",
       "      <td>Fintech</td>\n",
       "      <td>London</td>\n",
       "      <td>United Kingdom</td>\n",
       "      <td>Europe</td>\n",
       "      <td>2012</td>\n",
       "      <td>$2B</td>\n",
       "      <td>Tiger Global Management, Insight Partners, DST...</td>\n",
       "    </tr>\n",
       "    <tr>\n",
       "      <th>7</th>\n",
       "      <td>Instacart</td>\n",
       "      <td>$39B</td>\n",
       "      <td>12/30/14</td>\n",
       "      <td>Supply chain, logistics, &amp; delivery</td>\n",
       "      <td>San Francisco</td>\n",
       "      <td>United States</td>\n",
       "      <td>North America</td>\n",
       "      <td>2012</td>\n",
       "      <td>$3B</td>\n",
       "      <td>Khosla Ventures, Kleiner Perkins Caufield &amp; By...</td>\n",
       "    </tr>\n",
       "    <tr>\n",
       "      <th>8</th>\n",
       "      <td>JUUL Labs</td>\n",
       "      <td>$38B</td>\n",
       "      <td>12/20/17</td>\n",
       "      <td>Consumer &amp; retail</td>\n",
       "      <td>San Francisco</td>\n",
       "      <td>United States</td>\n",
       "      <td>North America</td>\n",
       "      <td>2015</td>\n",
       "      <td>$14B</td>\n",
       "      <td>Tiger Global Management</td>\n",
       "    </tr>\n",
       "    <tr>\n",
       "      <th>9</th>\n",
       "      <td>Databricks</td>\n",
       "      <td>$38B</td>\n",
       "      <td>2/5/19</td>\n",
       "      <td>Data management &amp; analytics</td>\n",
       "      <td>San Francisco</td>\n",
       "      <td>United States</td>\n",
       "      <td>North America</td>\n",
       "      <td>2013</td>\n",
       "      <td>$3B</td>\n",
       "      <td>Andreessen Horowitz, New Enterprise Associates...</td>\n",
       "    </tr>\n",
       "  </tbody>\n",
       "</table>\n",
       "</div>"
      ],
      "text/plain": [
       "        Company Valuation Date Joined                             Industry  \\\n",
       "0     Bytedance     $180B      4/7/17              Artificial intelligence   \n",
       "1        SpaceX     $100B     12/1/12                                Other   \n",
       "2         SHEIN     $100B      7/3/18      E-commerce & direct-to-consumer   \n",
       "3        Stripe      $95B     1/23/14                              Fintech   \n",
       "4        Klarna      $46B    12/12/11                              Fintech   \n",
       "5         Canva      $40B      1/8/18         Internet software & services   \n",
       "6  Checkout.com      $40B      5/2/19                              Fintech   \n",
       "7     Instacart      $39B    12/30/14  Supply chain, logistics, & delivery   \n",
       "8     JUUL Labs      $38B    12/20/17                    Consumer & retail   \n",
       "9    Databricks      $38B      2/5/19          Data management & analytics   \n",
       "\n",
       "            City  Country/Region      Continent  Year Founded Funding  \\\n",
       "0        Beijing           China           Asia          2012     $8B   \n",
       "1      Hawthorne   United States  North America          2002     $7B   \n",
       "2       Shenzhen           China           Asia          2008     $2B   \n",
       "3  San Francisco   United States  North America          2010     $2B   \n",
       "4      Stockholm          Sweden         Europe          2005     $4B   \n",
       "5    Surry Hills       Australia        Oceania          2012   $572M   \n",
       "6         London  United Kingdom         Europe          2012     $2B   \n",
       "7  San Francisco   United States  North America          2012     $3B   \n",
       "8  San Francisco   United States  North America          2015    $14B   \n",
       "9  San Francisco   United States  North America          2013     $3B   \n",
       "\n",
       "                                    Select Investors  \n",
       "0  Sequoia Capital China, SIG Asia Investments, S...  \n",
       "1  Founders Fund, Draper Fisher Jurvetson, Rothen...  \n",
       "2  Tiger Global Management, Sequoia Capital China...  \n",
       "3        Khosla Ventures, LowercaseCapital, capitalG  \n",
       "4  Institutional Venture Partners, Sequoia Capita...  \n",
       "5  Sequoia Capital China, Blackbird Ventures, Mat...  \n",
       "6  Tiger Global Management, Insight Partners, DST...  \n",
       "7  Khosla Ventures, Kleiner Perkins Caufield & By...  \n",
       "8                            Tiger Global Management  \n",
       "9  Andreessen Horowitz, New Enterprise Associates...  "
      ]
     },
     "execution_count": 3,
     "metadata": {},
     "output_type": "execute_result"
    }
   ],
   "source": [
    "# Display the first 10 rows of the data\n",
    "\n",
    "companies.head(10)"
   ]
  },
  {
   "cell_type": "markdown",
   "id": "4ee517cb",
   "metadata": {
    "id": "49881dfd-4532-424f-9729-f5378d984df0",
    "jp-MarkdownHeadingCollapsed": true,
    "tags": []
   },
   "source": [
    "<details>\n",
    "  <summary><h4><strong>Hint 1</strong></h4></summary>\n",
    "\n",
    "Refer to [the content about exploratory data analysis in Python](https://www.coursera.org/learn/go-beyond-the-numbers-translate-data-into-insight/lecture/kfl9b/find-stories-using-the-six-exploratory-data-analysis-practices).\n",
    "\n",
    "</details>"
   ]
  },
  {
   "cell_type": "markdown",
   "id": "a6e000dd",
   "metadata": {
    "id": "k2QxFOi9HW1Q",
    "jp-MarkdownHeadingCollapsed": true,
    "tags": []
   },
   "source": [
    "<details>\n",
    "  <summary><h4><strong>Hint 2</strong></h4></summary>\n",
    "\n",
    "Use the function in the `pandas` library that allows you to get a specific number of rows from the top of a DataFrame.\n",
    " \n",
    "\n",
    "</details>"
   ]
  },
  {
   "cell_type": "markdown",
   "id": "d7f55097",
   "metadata": {
    "id": "ptkclWFzHjHv",
    "jp-MarkdownHeadingCollapsed": true,
    "tags": []
   },
   "source": [
    "<details>\n",
    "  <summary><h4><strong>Hint 3</strong></h4></summary>\n",
    "\n",
    "Use the `head()` function from the `pandas` library. \n",
    "\n",
    "</details>"
   ]
  },
  {
   "cell_type": "markdown",
   "id": "0995c512",
   "metadata": {
    "id": "fb45ed17-5e22-4d48-9750-130a8586bbf9",
    "tags": []
   },
   "source": [
    "**Question:** What do you think the \"Date Joined\" column represents?"
   ]
  },
  {
   "cell_type": "markdown",
   "id": "a774f062",
   "metadata": {
    "id": "EvIbtmjalQHF"
   },
   "source": [
    " It represents the date on which it joined the company information was added to dataset."
   ]
  },
  {
   "cell_type": "markdown",
   "id": "f7c48ae6",
   "metadata": {
    "id": "46e7fce4-b8dc-4f53-9f5f-a7d7fdfe0831",
    "tags": []
   },
   "source": [
    "**Question:** What do you think the \"Select Investors\" column represents?"
   ]
  },
  {
   "cell_type": "markdown",
   "id": "c0154e99",
   "metadata": {
    "id": "1sdw8O-PlQ19"
   },
   "source": [
    "The \"Select Investors\" column in the provided dataset represents a list of notable investors or investment firms that have invested in the respective companies. These are specific investors that have contributed funding to the company's operations and growth."
   ]
  },
  {
   "cell_type": "markdown",
   "id": "c7a8d5b3",
   "metadata": {
    "id": "6d423621-c14b-4987-a76d-feee76046144"
   },
   "source": [
    "### Assess the size of the dataset\n",
    "\n",
    "Get a sense of how large the dataset is. The `size` property that DataFrames have can help."
   ]
  },
  {
   "cell_type": "code",
   "execution_count": 5,
   "id": "f282262f",
   "metadata": {
    "id": "1856c3c8-dd7e-4b0f-8e30-06e8ed6b9885"
   },
   "outputs": [
    {
     "data": {
      "text/plain": [
       "(1074, 10)"
      ]
     },
     "execution_count": 5,
     "metadata": {},
     "output_type": "execute_result"
    }
   ],
   "source": [
    "# How large the dataset is\n",
    "\n",
    "companies.shape"
   ]
  },
  {
   "cell_type": "markdown",
   "id": "b56e0585",
   "metadata": {
    "id": "a1188994-353a-466e-884c-e7b770fa03ac",
    "jp-MarkdownHeadingCollapsed": true,
    "tags": []
   },
   "source": [
    "**Question:** What do you notice about the size of the dataset?"
   ]
  },
  {
   "cell_type": "markdown",
   "id": "8e99b317",
   "metadata": {
    "id": "gLRHG7k6lPC2"
   },
   "source": [
    "The total number of rows in the companies dataset is 1074 and there are 10 columns."
   ]
  },
  {
   "cell_type": "markdown",
   "id": "e73d9f28",
   "metadata": {
    "id": "e31095a6-5526-42d3-b1c0-b77c1f8b3852"
   },
   "source": [
    "### Determine the shape of the dataset\n",
    "\n",
    "Identify the number of rows and columns in the dataset. The `shape` property that DataFrames have can help."
   ]
  },
  {
   "cell_type": "code",
   "execution_count": 6,
   "id": "0a199e42",
   "metadata": {
    "id": "df3c71a1-2519-4c50-86c2-63902a534d27"
   },
   "outputs": [
    {
     "name": "stdout",
     "output_type": "stream",
     "text": [
      "Number of rows: 1074\n",
      "Number of columns: 10\n"
     ]
    }
   ],
   "source": [
    "# Shape of the dataset\n",
    "\n",
    "num_rows, num_cols = companies.shape\n",
    "print(\"Number of rows:\", num_rows)\n",
    "print(\"Number of columns:\", num_cols)"
   ]
  },
  {
   "cell_type": "markdown",
   "id": "952ffaca",
   "metadata": {
    "id": "4c2998a8-f864-43eb-a2d5-64845ebc805c"
   },
   "source": [
    "**Question:** What do you notice about the shape of the dataset?"
   ]
  },
  {
   "cell_type": "markdown",
   "id": "c0d5b779",
   "metadata": {
    "id": "2D8Ix19xlOHv"
   },
   "source": [
    "The dataset contains 1074 rows or objects of data, each with 10 attributes or columns. This information is crucial for understanding the size and structure of your dataset, which is important for data analysis and manipulation."
   ]
  },
  {
   "cell_type": "markdown",
   "id": "bb71260d",
   "metadata": {
    "id": "b9c8ecb7-c202-4d0a-92ad-b6b6737bc167"
   },
   "source": [
    "### Get basic information about the dataset\n",
    "\n",
    "To further understand what the dataset entails, get basic information about the dataset, including the data type of values in each column. There is more than one way to approach this task. In this instance, use the `info()` function from `pandas`."
   ]
  },
  {
   "cell_type": "code",
   "execution_count": 7,
   "id": "8f7dc752",
   "metadata": {
    "id": "eedad8b8-ca45-430e-91d2-eff3ad66adaf"
   },
   "outputs": [
    {
     "name": "stdout",
     "output_type": "stream",
     "text": [
      "<class 'pandas.core.frame.DataFrame'>\n",
      "RangeIndex: 1074 entries, 0 to 1073\n",
      "Data columns (total 10 columns):\n",
      " #   Column            Non-Null Count  Dtype \n",
      "---  ------            --------------  ----- \n",
      " 0   Company           1074 non-null   object\n",
      " 1   Valuation         1074 non-null   object\n",
      " 2   Date Joined       1074 non-null   object\n",
      " 3   Industry          1074 non-null   object\n",
      " 4   City              1058 non-null   object\n",
      " 5   Country/Region    1074 non-null   object\n",
      " 6   Continent         1074 non-null   object\n",
      " 7   Year Founded      1074 non-null   int64 \n",
      " 8   Funding           1074 non-null   object\n",
      " 9   Select Investors  1073 non-null   object\n",
      "dtypes: int64(1), object(9)\n",
      "memory usage: 84.0+ KB\n"
     ]
    }
   ],
   "source": [
    "# Get information\n",
    "\n",
    "companies.info()"
   ]
  },
  {
   "cell_type": "markdown",
   "id": "4ce0efa1",
   "metadata": {
    "id": "bd6573bc-2adb-410e-a85c-d6d5886d51bf"
   },
   "source": [
    "**Question:** What do you notice about the type of data in the `Year Founded` column? Refer to the output from using `info()` above. Knowing the data type of this variable is helpful because it indicates what types of analysis can be done with that variable, how it can be aggregated with other variables, and so on."
   ]
  },
  {
   "cell_type": "markdown",
   "id": "59e96668",
   "metadata": {
    "id": "z_zKTLpXlF3D"
   },
   "source": [
    "The year founded column data type is integer which is helpful for analysis because it can be aggregated with other variables and so on."
   ]
  },
  {
   "cell_type": "markdown",
   "id": "24163946",
   "metadata": {
    "id": "e6da795c-331b-4271-9825-103112cb08da"
   },
   "source": [
    "**Question:** What do you notice about the type of data in the `Date Joined` column? Refer to the output from using `info()` above. Knowing the data type of this variable is helpful because it indicates what types of analysis can be done with that variable and how the variable can be transformed to suit specific tasks."
   ]
  },
  {
   "cell_type": "markdown",
   "id": "0dc448eb",
   "metadata": {
    "id": "oS1P_JQNlMFQ"
   },
   "source": [
    "The \"Date Joined\" column has an object data type, which usually indicates that the values are being treated as strings. This means that the dates in this column are currently stored as text rather than proper date objects. We need to convert the \"Date Joined\" column to the datetime data type using the pd.to_datetime() function in pandas."
   ]
  },
  {
   "cell_type": "markdown",
   "id": "88ed7ed5",
   "metadata": {
    "id": "XFkjw_Ke2Cjn"
   },
   "source": [
    "## Step 3: Statistical tests"
   ]
  },
  {
   "cell_type": "markdown",
   "id": "9de3a0a8",
   "metadata": {
    "id": "7dac147e-19e1-49e7-bd80-e122390c3a70",
    "tags": []
   },
   "source": [
    "### Find descriptive statistics\n",
    "\n",
    "Find descriptive statistics and structure your dataset. The `describe()` function from the `pandas` library can help. This function generates statistics for the numeric columns in a dataset. "
   ]
  },
  {
   "cell_type": "code",
   "execution_count": 8,
   "id": "6baf85b6",
   "metadata": {
    "id": "13f1c1dd-5637-4726-8fa0-2fbd838e4afa"
   },
   "outputs": [
    {
     "data": {
      "text/html": [
       "<div>\n",
       "<style scoped>\n",
       "    .dataframe tbody tr th:only-of-type {\n",
       "        vertical-align: middle;\n",
       "    }\n",
       "\n",
       "    .dataframe tbody tr th {\n",
       "        vertical-align: top;\n",
       "    }\n",
       "\n",
       "    .dataframe thead th {\n",
       "        text-align: right;\n",
       "    }\n",
       "</style>\n",
       "<table border=\"1\" class=\"dataframe\">\n",
       "  <thead>\n",
       "    <tr style=\"text-align: right;\">\n",
       "      <th></th>\n",
       "      <th>Year Founded</th>\n",
       "    </tr>\n",
       "  </thead>\n",
       "  <tbody>\n",
       "    <tr>\n",
       "      <th>count</th>\n",
       "      <td>1074.000000</td>\n",
       "    </tr>\n",
       "    <tr>\n",
       "      <th>mean</th>\n",
       "      <td>2012.895717</td>\n",
       "    </tr>\n",
       "    <tr>\n",
       "      <th>std</th>\n",
       "      <td>5.698573</td>\n",
       "    </tr>\n",
       "    <tr>\n",
       "      <th>min</th>\n",
       "      <td>1919.000000</td>\n",
       "    </tr>\n",
       "    <tr>\n",
       "      <th>25%</th>\n",
       "      <td>2011.000000</td>\n",
       "    </tr>\n",
       "    <tr>\n",
       "      <th>50%</th>\n",
       "      <td>2014.000000</td>\n",
       "    </tr>\n",
       "    <tr>\n",
       "      <th>75%</th>\n",
       "      <td>2016.000000</td>\n",
       "    </tr>\n",
       "    <tr>\n",
       "      <th>max</th>\n",
       "      <td>2021.000000</td>\n",
       "    </tr>\n",
       "  </tbody>\n",
       "</table>\n",
       "</div>"
      ],
      "text/plain": [
       "       Year Founded\n",
       "count   1074.000000\n",
       "mean    2012.895717\n",
       "std        5.698573\n",
       "min     1919.000000\n",
       "25%     2011.000000\n",
       "50%     2014.000000\n",
       "75%     2016.000000\n",
       "max     2021.000000"
      ]
     },
     "execution_count": 8,
     "metadata": {},
     "output_type": "execute_result"
    }
   ],
   "source": [
    "# Get descriptive statistics\n",
    "\n",
    "companies.describe()\n"
   ]
  },
  {
   "cell_type": "markdown",
   "id": "b338a216",
   "metadata": {
    "id": "a70475eb-d3a6-42e4-8b71-a49b5a1aa0db"
   },
   "source": [
    "**Question:** Based on the table of descriptive stats generated above, what do you notice about the minimum value in the `Year Founded` column? This is important to know because it helps you understand how early the entries in the data begin."
   ]
  },
  {
   "cell_type": "markdown",
   "id": "fba7a6a2",
   "metadata": {
    "id": "KoM_YE7TlSx7"
   },
   "source": [
    "For that we need to convert the data type of year founded from object to int64 by pd.to_datetime function."
   ]
  },
  {
   "cell_type": "markdown",
   "id": "74a3b422",
   "metadata": {
    "id": "390764a7-961c-4ec7-ae11-38943d94b788",
    "tags": []
   },
   "source": [
    "**Question:** What do you notice about the maximum value in the `Year Founded` column? This is important to know because it helps you understand the most recent year captured by the data. "
   ]
  },
  {
   "cell_type": "markdown",
   "id": "57f54200",
   "metadata": {
    "id": "7HQWuLNhZXTZ"
   },
   "source": [
    "For that we need to convert the data type of year founded from object to int64 by pd.to_datetime function."
   ]
  },
  {
   "cell_type": "markdown",
   "id": "4dd6587a",
   "metadata": {
    "id": "94b53c7f-54d8-4d1a-ae07-7c28c2ab8f5b",
    "tags": []
   },
   "source": [
    "### Convert the `Date Joined` column to datetime\n",
    "\n",
    "Use the `to_datetime()` function from the `pandas` library  to convert the `Date Joined` column to datetime. This splits each value into year, month, and date components. This is an important step in data cleaning, as it makes the data in this column easier to use in tasks you may encounter. To name a few examples, you may need to compare \"date joined\" between companies or determine how long it took a company to become a unicorn. Having \"date joined\" in datetime form would help you complete such tasks."
   ]
  },
  {
   "cell_type": "code",
   "execution_count": 9,
   "id": "a1a1643e",
   "metadata": {
    "id": "afe607c8-9dd7-47c3-9fc8-88772f015e2b"
   },
   "outputs": [
    {
     "name": "stdout",
     "output_type": "stream",
     "text": [
      "Before updating:\n",
      "0   2017-04-07\n",
      "1   2012-12-01\n",
      "2   2018-07-03\n",
      "3   2014-01-23\n",
      "4   2011-12-12\n",
      "Name: Date Joined, dtype: datetime64[ns]\n"
     ]
    }
   ],
   "source": [
    "# Step 1: Use pd.to_datetime() to convert Date Joined column to datetime \n",
    "# Step 2: Update the column with the converted values\n",
    "\n",
    "companies['Date Joined'] = pd.to_datetime(companies['Date Joined'])\n",
    "print(\"Before updating:\")\n",
    "print(companies['Date Joined'].head())"
   ]
  },
  {
   "cell_type": "code",
   "execution_count": 10,
   "id": "07cc16d5",
   "metadata": {
    "id": "SBg22N43bA17"
   },
   "outputs": [
    {
     "name": "stdout",
     "output_type": "stream",
     "text": [
      "<class 'pandas.core.frame.DataFrame'>\n",
      "RangeIndex: 1074 entries, 0 to 1073\n",
      "Data columns (total 10 columns):\n",
      " #   Column            Non-Null Count  Dtype         \n",
      "---  ------            --------------  -----         \n",
      " 0   Company           1074 non-null   object        \n",
      " 1   Valuation         1074 non-null   object        \n",
      " 2   Date Joined       1074 non-null   datetime64[ns]\n",
      " 3   Industry          1074 non-null   object        \n",
      " 4   City              1058 non-null   object        \n",
      " 5   Country/Region    1074 non-null   object        \n",
      " 6   Continent         1074 non-null   object        \n",
      " 7   Year Founded      1074 non-null   int64         \n",
      " 8   Funding           1074 non-null   object        \n",
      " 9   Select Investors  1073 non-null   object        \n",
      "dtypes: datetime64[ns](1), int64(1), object(8)\n",
      "memory usage: 84.0+ KB\n"
     ]
    }
   ],
   "source": [
    "# Use .info() to confirm that the update actually took place\n",
    "\n",
    "companies.info()\n"
   ]
  },
  {
   "cell_type": "markdown",
   "id": "abeff6c4",
   "metadata": {
    "id": "ae351a97-926e-40af-91e2-4bd12a5bf888",
    "tags": []
   },
   "source": [
    "### Create a `Year Joined` column\n",
    "\n",
    "It is common to encounter situations where you will need to compare the year joined with the year founded. The `Date Joined` column does not just have year—it has the year, month, and date. Extract the year component from the `Date Joined` column and add those year components into a new column to keep track of each company's year joined."
   ]
  },
  {
   "cell_type": "code",
   "execution_count": 13,
   "id": "42f7f777",
   "metadata": {
    "id": "7d8be21b-d625-4a8a-ad8b-a2e4ae7a2c4e"
   },
   "outputs": [],
   "source": [
    "# Step 1: Use .dt.year to extract year component from Date Joined column\n",
    "\n",
    "years_joined = companies['Date Joined'].dt.year\n",
    "\n",
    "# Step 2: Add the result as a new column named Year Joined to the DataFrame\n",
    "companies['Year Joined'] = years_joined\n",
    "\n"
   ]
  },
  {
   "cell_type": "code",
   "execution_count": 14,
   "id": "17c884f1",
   "metadata": {
    "id": "eSycjkBTbQB4"
   },
   "outputs": [
    {
     "name": "stdout",
     "output_type": "stream",
     "text": [
      "     Company Valuation Date Joined                         Industry  \\\n",
      "0  Bytedance     $180B  2017-04-07          Artificial intelligence   \n",
      "1     SpaceX     $100B  2012-12-01                            Other   \n",
      "2      SHEIN     $100B  2018-07-03  E-commerce & direct-to-consumer   \n",
      "3     Stripe      $95B  2014-01-23                          Fintech   \n",
      "4     Klarna      $46B  2011-12-12                          Fintech   \n",
      "\n",
      "            City Country/Region      Continent  Year Founded Funding  \\\n",
      "0        Beijing          China           Asia          2012     $8B   \n",
      "1      Hawthorne  United States  North America          2002     $7B   \n",
      "2       Shenzhen          China           Asia          2008     $2B   \n",
      "3  San Francisco  United States  North America          2010     $2B   \n",
      "4      Stockholm         Sweden         Europe          2005     $4B   \n",
      "\n",
      "                                    Select Investors  Year Joined  \n",
      "0  Sequoia Capital China, SIG Asia Investments, S...         2017  \n",
      "1  Founders Fund, Draper Fisher Jurvetson, Rothen...         2012  \n",
      "2  Tiger Global Management, Sequoia Capital China...         2018  \n",
      "3        Khosla Ventures, LowercaseCapital, capitalG         2014  \n",
      "4  Institutional Venture Partners, Sequoia Capita...         2011  \n"
     ]
    }
   ],
   "source": [
    "# Use .head() to confirm that the new column did get added\n",
    "\n",
    "print(companies.head())\n"
   ]
  },
  {
   "cell_type": "markdown",
   "id": "62f67bb7",
   "metadata": {
    "id": "B4_yxUrQ2Yhp"
   },
   "source": [
    "## Step 4: Results and evaluation\n"
   ]
  },
  {
   "cell_type": "markdown",
   "id": "b828d3da",
   "metadata": {
    "id": "5a99bfd0-95e9-4ed3-a01a-2e430967f98e",
    "tags": []
   },
   "source": [
    "### Take a sample of the data\n",
    "\n",
    "It is not necessary to take a sample of the data in order to conduct the visualizations and EDA that follow. But you may encounter scenarios in the future where you will need to take a sample of the data due to time and resource limitations. For the purpose of developing your skills around sampling, take a sample of the data and work with that sample for the next steps of analysis you want to conduct. Use the `sample()` function for this task.\n",
    "\n",
    "- Use `sample()` with the `n` parameter set to `50` to randomly sample 50 unicorn companies from the data. Be sure to specify the `random_state` parameter to ensure reproducibility of your work. Save the result to a variable called `companies_sampled`."
   ]
  },
  {
   "cell_type": "code",
   "execution_count": 19,
   "id": "7b1d499c",
   "metadata": {
    "id": "1e5df00e-d64f-417c-b7fc-311a960ecc8c"
   },
   "outputs": [
    {
     "name": "stdout",
     "output_type": "stream",
     "text": [
      "                   Company Valuation Date Joined  \\\n",
      "599          Xinchao Media       $2B  2018-04-09   \n",
      "49              OutSystems      $10B  2018-06-05   \n",
      "383       Pantheon Systems       $2B  2021-07-13   \n",
      "690         Clarify Health       $1B  2022-04-05   \n",
      "1025                Skydio       $1B  2021-02-25   \n",
      "447              HoneyBook       $2B  2021-05-04   \n",
      "671                 fabric       $1B  2022-02-24   \n",
      "281              Project44       $3B  2021-06-01   \n",
      "781          Offchain Labs       $1B  2021-08-31   \n",
      "722               Signifyd       $1B  2021-04-15   \n",
      "287                 Cars24       $3B  2020-11-24   \n",
      "192      Applied Intuition       $4B  2020-10-22   \n",
      "26          Devoted Health      $13B  2018-10-16   \n",
      "42           Weilong Foods      $11B  2021-05-08   \n",
      "0                Bytedance     $180B  2017-04-07   \n",
      "222                 Branch       $4B  2018-09-10   \n",
      "473         DispatchHealth       $2B  2021-03-03   \n",
      "674          Mofang Living       $1B  2016-04-13   \n",
      "564         Guoquan Shihui       $2B  2021-03-17   \n",
      "164      SambaNova Systems       $5B  2021-04-13   \n",
      "548              BlaBlaCar       $2B  2015-09-16   \n",
      "9               Databricks      $38B  2019-02-05   \n",
      "337                 Forter       $3B  2020-11-19   \n",
      "848             Matrixport       $1B  2021-06-01   \n",
      "922      Gauntlet Networks       $1B  2022-03-07   \n",
      "863               Anyscale       $1B  2021-12-07   \n",
      "519             Volocopter       $2B  2022-03-04   \n",
      "163                  Qonto       $5B  2022-01-11   \n",
      "704                   Papa       $1B  2021-11-04   \n",
      "323         ActiveCampaign       $3B  2021-04-21   \n",
      "638          Shulan Health       $1B  2021-03-01   \n",
      "554             ClickHouse       $2B  2021-10-28   \n",
      "1002                Poizon       $1B  2019-04-29   \n",
      "538          Starling Bank       $2B  2021-03-08   \n",
      "3                   Stripe      $95B  2014-01-23   \n",
      "791                 UpGrad       $1B  2021-08-09   \n",
      "158                Icertis       $5B  2019-07-17   \n",
      "631   Modernizing Medicine       $1B  2017-05-10   \n",
      "976          Nature's Fynd       $1B  2021-07-19   \n",
      "873           BenevolentAI       $1B  2015-06-02   \n",
      "566                 HuiMin       $2B  2016-09-05   \n",
      "71                 Dream11       $8B  2019-04-09   \n",
      "630               MobiKwik       $1B  2021-10-13   \n",
      "79     Caris Life Sciences       $8B  2021-05-12   \n",
      "237                Webflow       $4B  2021-01-13   \n",
      "572                    KRY       $2B  2021-04-27   \n",
      "14                   Chime      $25B  2019-03-05   \n",
      "852             Leap Motor       $1B  2018-11-20   \n",
      "137                 Vinted       $5B  2019-11-27   \n",
      "215                 SSENSE       $4B  2021-06-08   \n",
      "\n",
      "                                 Industry            City  Country/Region  \\\n",
      "599          Internet software & services         Chengdu           China   \n",
      "49           Internet software & services          Boston   United States   \n",
      "383          Internet software & services   San Francisco   United States   \n",
      "690                                Health   San Francisco   United States   \n",
      "1025  Supply chain, logistics, & delivery    Redwood City   United States   \n",
      "447          Internet software & services   San Francisco   United States   \n",
      "671       E-commerce & direct-to-consumer        Bellevue   United States   \n",
      "281   Supply chain, logistics, & delivery         Chicago   United States   \n",
      "781          Internet software & services       Princeton   United States   \n",
      "722                               Fintech        San Jose   United States   \n",
      "287       E-commerce & direct-to-consumer         Gurgaon           India   \n",
      "192           Data management & analytics       Sunnyvale   United States   \n",
      "26                                 Health         Waltham   United States   \n",
      "42                      Consumer & retail           Luohe           China   \n",
      "0                 Artificial intelligence         Beijing           China   \n",
      "222           Mobile & telecommunications    Redwood City   United States   \n",
      "473                                Health          Denver   United States   \n",
      "674       E-commerce & direct-to-consumer        Shanghai           China   \n",
      "564                     Consumer & retail        Shanghai           China   \n",
      "164           Data management & analytics       Palo Alto   United States   \n",
      "548                 Auto & transportation           Paris          France   \n",
      "9             Data management & analytics   San Francisco   United States   \n",
      "337                         Cybersecurity        New York   United States   \n",
      "848                               Fintech             NaN       Singapore   \n",
      "922                               Fintech        New York   United States   \n",
      "863               Artificial Intelligence        Berkeley   United States   \n",
      "519                 Auto & transportation        Bruchsal         Germany   \n",
      "163                               Fintech           Paris          France   \n",
      "704                                Health           Miami   United States   \n",
      "323          Internet software & services         Chicago   United States   \n",
      "638                                Health        Hangzhou           China   \n",
      "554           Data management & analytics  Portola Valley   United States   \n",
      "1002          Mobile & telecommunications        Shanghai           China   \n",
      "538                               Fintech          London  United Kingdom   \n",
      "3                                 Fintech   San Francisco   United States   \n",
      "791                                Edtech          Mumbai           India   \n",
      "158               Artificial intelligence        Bellevue   United States   \n",
      "631                                Health      Boca Raton   United States   \n",
      "976                                 Other         Chicago   United States   \n",
      "873               Artificial intelligence          London  United Kingdom   \n",
      "566       E-commerce & direct-to-consumer         Beijing           China   \n",
      "71           Internet software & services          Mumbai           India   \n",
      "630                               Fintech        Gurugram           India   \n",
      "79                                 Health          Irving   United States   \n",
      "237          Internet software & services   San Francisco   United States   \n",
      "572                                Health       Stockholm          Sweden   \n",
      "14                                Fintech   San Francisco   United States   \n",
      "852                 Auto & transportation        Hangzhou           China   \n",
      "137       E-commerce & direct-to-consumer         Vilnius       Lithuania   \n",
      "215       E-commerce & direct-to-consumer        Montreal          Canada   \n",
      "\n",
      "          Continent  Year Founded  Funding  \\\n",
      "599            Asia          2007    $768M   \n",
      "49    North America          2001    $572M   \n",
      "383   North America          2010    $200M   \n",
      "690   North America          2015    $328M   \n",
      "1025  North America          2014    $340M   \n",
      "447   North America          2013    $498M   \n",
      "671   North America          2017    $294M   \n",
      "281   North America          2014    $818M   \n",
      "781   North America          2018    $124M   \n",
      "722   North America          2011    $390M   \n",
      "287            Asia          2015      $1B   \n",
      "192   North America          2017    $352M   \n",
      "26    North America          2017      $2B   \n",
      "42             Asia          1999    $558M   \n",
      "0              Asia          2012      $8B   \n",
      "222   North America          2014    $667M   \n",
      "473   North America          2013    $403M   \n",
      "674            Asia          2009    $650M   \n",
      "564            Asia          2017    $523M   \n",
      "164   North America          2017      $1B   \n",
      "548          Europe          2006    $449M   \n",
      "9     North America          2013      $3B   \n",
      "337   North America          2013    $525M   \n",
      "848            Asia          2019    $100M   \n",
      "922   North America          2018     $45M   \n",
      "863   North America          2019    $160M   \n",
      "519          Europe          2011    $599M   \n",
      "163          Europe          2016    $704M   \n",
      "704   North America          2016    $241M   \n",
      "323   North America          2003    $360M   \n",
      "638            Asia          2015     $43M   \n",
      "554   North America          2021    $300M   \n",
      "1002           Asia          2015  Unknown   \n",
      "538          Europe          2014    $791M   \n",
      "3     North America          2010      $2B   \n",
      "791            Asia          2015    $194M   \n",
      "158   North America          2009    $371M   \n",
      "631   North America          2010    $394M   \n",
      "976   North America          2012    $463M   \n",
      "873          Europe          2013    $292M   \n",
      "566            Asia          2013    $517M   \n",
      "71             Asia          2007      $2B   \n",
      "630            Asia          2009    $249M   \n",
      "79    North America          1996      $1B   \n",
      "237   North America          2012    $335M   \n",
      "572          Europe          2014    $569M   \n",
      "14    North America          2013      $2B   \n",
      "852            Asia          2015      $1B   \n",
      "137          Europe          2008    $562M   \n",
      "215   North America          2003  Unknown   \n",
      "\n",
      "                                       Select Investors  Year Joined  \n",
      "599                  JD.com, Baidu, Vision Plus Capital         2018  \n",
      "49         KKR, ES Ventures, North Bridge Growth Equity         2018  \n",
      "383   Foundry Group, Scale Venture Partners, SoftBan...         2021  \n",
      "690              KKR, Aspenwood Ventures, Spark Capital         2022  \n",
      "1025  Andreessen Horowitz, Andreessen Horowitz, Inst...         2021  \n",
      "447   Norwest Venture Partners, Hillsven Capital, Aleph         2021  \n",
      "671   Redpoint Ventures, Norwest Venture Partners, S...         2022  \n",
      "281   Emergence Capital Partners, 8VC, Chicago Ventures         2021  \n",
      "781   Pantera Capital, Polychain Capital, Lightspeed...         2021  \n",
      "722      Menlo Ventures, Resolute Ventures, IA Ventures         2021  \n",
      "287   Moore Strategic Ventures, DST Global, Sequoia ...         2020  \n",
      "192   Andreessen Horowitz, Lux Capital, General Cata...         2020  \n",
      "26        Andreessen Horowitz, F-Prime Capital, Venrock         2018  \n",
      "42    Tencent Holdings, Hillhouse Capital Management...         2021  \n",
      "0     Sequoia Capital China, SIG Asia Investments, S...         2017  \n",
      "222    New Enterprise Associates, Pear, Cowboy Ventures         2018  \n",
      "473   Alta Partners, Questa Capital, Echo Health Ven...         2021  \n",
      "674   Warburg Pincus, Aviation Industry Corporation ...         2016  \n",
      "564   Tiantu Capital, CMB International Capital, Vis...         2021  \n",
      "164   Walden International, Google Ventures, Intel C...         2021  \n",
      "548   Accel Partners, Index Ventures, Insight Ventur...         2015  \n",
      "9     Andreessen Horowitz, New Enterprise Associates...         2019  \n",
      "337   Sequoia Capital Israel, Scale Venture Partners...         2020  \n",
      "848   Dragonfly Captial, Qiming Venture Partners, DS...         2021  \n",
      "922         Polychain Capital, Paradigm, Ribbit Capital         2022  \n",
      "863   Andreessen Horowitz, Intel Capital, Foundation...         2021  \n",
      "519                 btov Partners, Geely, Intel Capital         2022  \n",
      "163     Alven Capital, Valar Ventures, Tencent Holdings         2022  \n",
      "704   Initialized Capital, Canaan Partners, Sound Ve...         2021  \n",
      "323   Silversmith Capital Partners, Susquehanna Grow...         2021  \n",
      "638                             Qiming Venture Partners         2021  \n",
      "554   Lightspeed Venture Partners, Almaz Capital Par...         2021  \n",
      "1002  DST Global, Sequoia Capital China, Gaorong Cap...         2019  \n",
      "538   JTC Group, Qatar Investment Authority, Fidelit...         2021  \n",
      "3           Khosla Ventures, LowercaseCapital, capitalG         2014  \n",
      "791           Qualcomm Ventures, Accel, Canaan Partners         2021  \n",
      "158   Eight Roads Ventures, Greycroft, Ignition Part...         2019  \n",
      "631      Warburg Pincus, Summit Partners, Sands Capital         2017  \n",
      "976   Danone Manifesto Ventures, 1955 Capital, Break...         2021  \n",
      "873                      Woodford Investment Management         2015  \n",
      "566   Zheshang Venture Capital, GP Capital, Western ...         2016  \n",
      "71    Kaalari Capital, Tencent Holdings, Steadview C...         2019  \n",
      "630   Sequoia Capital India, The Times Group, GMO Ve...         2021  \n",
      "79    Sixth Street Partners, OrbiMed Advisors, Highl...         2021  \n",
      "237       Accel, Silversmith Capital Partners, capitalG         2021  \n",
      "572                     Index Ventures, Creandum, Accel         2021  \n",
      "14     Forerunner Ventures, Crosslink Capital, Homebrew         2019  \n",
      "852   Sequoia Capital China, Gopher Asset Management...         2018  \n",
      "137   Accel, Insight Partners, Burda Principal Inves...         2019  \n",
      "215                                     Sequoia Capital         2021  \n"
     ]
    }
   ],
   "source": [
    "# Sample the data\n",
    "\n",
    "companies_sampled = companies.sample(n=50, random_state=40)\n",
    "\n",
    "# Display the sampled DataFrame\n",
    "print(companies_sampled)\n"
   ]
  },
  {
   "cell_type": "markdown",
   "id": "d2da4176",
   "metadata": {
    "id": "10beff64-16e0-464d-93f0-03ab61f7069b",
    "tags": []
   },
   "source": [
    "### Visualize the time it took companies to reach unicorn status\n",
    "\n",
    "Visualize the longest time it took companies to reach unicorn status for each industry represented in the sample. To create a bar plot to visualize this, use the `bar()` function from the `matplotlib.pyplot` module. You'll first need to prepare the data."
   ]
  },
  {
   "cell_type": "code",
   "execution_count": 22,
   "id": "3032a41d",
   "metadata": {},
   "outputs": [],
   "source": [
    "# Create a new column 'Years to Unicorn' representing the number of years it took to reach unicorn status\n",
    "current_year = 2023  # Assuming the current year is 2023\n",
    "companies_sampled['Years to Unicorn'] = current_year - companies_sampled['Year Founded']\n",
    "\n",
    "# Prepare data for plotting\n",
    "industry_max_time = companies_sampled.groupby('Industry')['Years to Unicorn'].max()"
   ]
  },
  {
   "cell_type": "code",
   "execution_count": 23,
   "id": "46b4f143",
   "metadata": {
    "id": "1153ca76-f1e3-4fea-a2db-a5de23614abd"
   },
   "outputs": [
    {
     "data": {
      "image/png": "[encoded data removed]",
      "text/plain": [
       "<Figure size 720x432 with 1 Axes>"
      ]
     },
     "metadata": {
      "needs_background": "light"
     },
     "output_type": "display_data"
    }
   ],
   "source": [
    "# Create bar plot\n",
    "# with the various industries as the categories of the bars\n",
    "# and the time it took to reach unicorn status as the height of the bars\n",
    "\n",
    "### YOUR CODE HERE ###\n",
    "plt.figure(figsize=(10, 6))\n",
    "industry_max_time.sort_values(ascending=False).plot(kind='bar', color='skyblue')\n",
    "\n",
    "\n",
    "# Set title\n",
    "\n",
    "### YOUR CODE HERE ###\n",
    "plt.title(\"Longest Time to Reach Unicorn Status by Industry\")\n",
    "\n",
    "# Set x-axis label\n",
    "plt.xlabel('Industry')\n",
    "\n",
    "# Set y-axis label\n",
    "plt.ylabel('Years to Reach Unicorn Status')\n",
    "\n",
    "# Rotate labels on the x-axis as a way to avoid overlap in the positions of the text\n",
    "plt.xticks(rotation=45, ha='right')\n",
    "\n",
    "# Display the plot\n",
    "plt.tight_layout()\n",
    "plt.show()\n"
   ]
  },
  {
   "cell_type": "markdown",
   "id": "0378ce28",
   "metadata": {
    "id": "BtgkB4fVudvo",
    "jp-MarkdownHeadingCollapsed": true,
    "tags": []
   },
   "source": [
    "<details>\n",
    "  <summary><h4><strong>Hint 1</strong></h4></summary>\n",
    "\n",
    "To prepare the data for modeling, begin by creating a column that represents the number of years it took each company to reach unicorn status. \n",
    "\n",
    "</details>"
   ]
  },
  {
   "cell_type": "markdown",
   "id": "eb00d1a0",
   "metadata": {
    "id": "bHCMc83Nudvq",
    "jp-MarkdownHeadingCollapsed": true,
    "tags": []
   },
   "source": [
    "<details>\n",
    "  <summary><h4><strong>Hint 2</strong></h4></summary>\n",
    "    \n",
    "To prepare the data for modeling, group the dataframe by industry and get the maximum value in the newly created column for each industry.\n",
    "\n",
    "</details>"
   ]
  },
  {
   "cell_type": "markdown",
   "id": "c602e4ef",
   "metadata": {
    "id": "ttH8ynAyudvr",
    "jp-MarkdownHeadingCollapsed": true,
    "tags": []
   },
   "source": [
    "<details>\n",
    "  <summary><h4><strong>Hint 3</strong></h4></summary>\n",
    "\n",
    "You can use the `plt.bar()` to create the bar plot, passing in the categories and heights of the bars.\n",
    "\n",
    "You can use `plt.title()`, `plt.xlabel()`, and `plt.ylabel()` to set the title, x-axis label, and y-axis label, respectively. \n",
    "\n",
    "You can use `plt.xticks()` to rotate labels on the x-axis of a plot. The parameters `rotation=45, horizontalalignment='right'` can be passed in to rotate the labels by 45 degrees and align the labels to the right. \n",
    "\n",
    "You can use `plt.show()` to display a plot.\n",
    "\n",
    "</details>"
   ]
  },
  {
   "cell_type": "markdown",
   "id": "4655f611",
   "metadata": {
    "id": "59a1254d-4c99-49a6-b8fa-8dbd26bff000"
   },
   "source": [
    "**Question:** What do you observe from this bar plot?"
   ]
  },
  {
   "cell_type": "markdown",
   "id": "9082cdaf",
   "metadata": {
    "id": "QNdABMI_lUdO"
   },
   "source": [
    "The artificial intelligence industry reached the unicorn status faster than others within 5 years."
   ]
  },
  {
   "cell_type": "code",
   "execution_count": 24,
   "id": "f42a4fd3",
   "metadata": {},
   "outputs": [
    {
     "name": "stdout",
     "output_type": "stream",
     "text": [
      "Fintech                                224\n",
      "Internet software & services           205\n",
      "E-commerce & direct-to-consumer        111\n",
      "Health                                  74\n",
      "Artificial intelligence                 73\n",
      "Other                                   58\n",
      "Supply chain, logistics, & delivery     57\n",
      "Cybersecurity                           50\n",
      "Data management & analytics             41\n",
      "Mobile & telecommunications             38\n",
      "Hardware                                34\n",
      "Auto & transportation                   31\n",
      "Edtech                                  28\n",
      "Consumer & retail                       25\n",
      "Travel                                  14\n",
      "Artificial Intelligence                 11\n",
      "Name: Industry, dtype: int64\n"
     ]
    }
   ],
   "source": [
    "# Get the count of companies in each industry category\n",
    "industry_counts = companies['Industry'].value_counts()\n",
    "\n",
    "# Display the count of companies in each industry category\n",
    "print(industry_counts)"
   ]
  },
  {
   "cell_type": "markdown",
   "id": "814aa7cd",
   "metadata": {
    "id": "95bc4742-40ff-4f02-ba94-b25f95094e54",
    "tags": []
   },
   "source": [
    "### Visualize the maximum unicorn company valuation per industry\n",
    "\n",
    "Visualize unicorn companies' maximum valuation for each industry represented in the sample. To create a bar plot to visualize this, use the `bar()` function from the `matplotlib.pyplot` module. Before plotting, create a new column that represents the companies' valuations as numbers (instead of strings, as they're currently represented). Then, use this new column to plot your data."
   ]
  },
  {
   "cell_type": "code",
   "execution_count": 25,
   "id": "cda9d714",
   "metadata": {},
   "outputs": [],
   "source": [
    "# Create a column representing company valuation as numeric data\n",
    "companies_sampled['Valuation Numeric'] = companies_sampled['Valuation'].str.replace('$', '').str.replace('B', '').astype(float)\n"
   ]
  },
  {
   "cell_type": "code",
   "execution_count": 26,
   "id": "e2248f85",
   "metadata": {
    "id": "5ccf1d5e-877e-4e73-bba8-23875c72494d"
   },
   "outputs": [
    {
     "data": {
      "image/png": "[encoded data removed]",
      "text/plain": [
       "<Figure size 720x432 with 1 Axes>"
      ]
     },
     "metadata": {
      "needs_background": "light"
     },
     "output_type": "display_data"
    }
   ],
   "source": [
    "# Create bar plot\n",
    "# with the various industries as the categories of the bars\n",
    "# and the maximum valuation for each industry as the height of the bars\n",
    "\n",
    "# Prepare data for plotting\n",
    "industry_max_valuation = companies_sampled.groupby('Industry')['Valuation Numeric'].max()\n",
    "\n",
    "# Create bar plot\n",
    "plt.figure(figsize=(10, 6))\n",
    "industry_max_valuation.sort_values(ascending=False).plot(kind='bar', color='skyblue')\n",
    "\n",
    "# Set title\n",
    "plt.title('Maximum Unicorn Company Valuation by Industry')\n",
    "\n",
    "# Set x-axis label\n",
    "plt.xlabel('Industry')\n",
    "\n",
    "# Set y-axis label\n",
    "plt.ylabel('Maximum Valuation ($B)')\n",
    "\n",
    "# Rotate labels on the x-axis to avoid overlap\n",
    "plt.xticks(rotation=45, ha='right')\n",
    "\n",
    "# Display the plot\n",
    "plt.tight_layout()\n",
    "plt.show()\n"
   ]
  },
  {
   "cell_type": "markdown",
   "id": "9fb7ea99",
   "metadata": {
    "id": "NnL6YrfFoA3G",
    "jp-MarkdownHeadingCollapsed": true,
    "tags": []
   },
   "source": [
    "<details>\n",
    "  <summary><h4><strong>Hint 1</strong></h4></summary>\n",
    "\n",
    "Repeat the process from the last task, only this time with different variables.\n",
    "</details>"
   ]
  },
  {
   "cell_type": "markdown",
   "id": "de8a8271",
   "metadata": {
    "id": "bo8rC9dZoA3H",
    "jp-MarkdownHeadingCollapsed": true,
    "tags": []
   },
   "source": [
    "<details>\n",
    "  <summary><h4><strong>Hint 2</strong></h4></summary>\n",
    "\n",
    "Use the function in the `matplotlib.pyplot` module that allows you to create a bar plot, specifying the category and height for each bar. \n",
    "\n",
    "Use the functions in the `matplotlib.pyplot` module that allow you to set the title, x-axis label, and y-axis label of plots. In that module, there are also functions for rotating the labels on the x-axis and displaying the plot. \n",
    "\n",
    "</details>"
   ]
  },
  {
   "cell_type": "markdown",
   "id": "87544aef",
   "metadata": {
    "id": "TkeTAsUooA3J",
    "jp-MarkdownHeadingCollapsed": true,
    "tags": []
   },
   "source": [
    "<details>\n",
    "  <summary><h4><strong>Hint 3</strong></h4></summary>\n",
    "\n",
    "Use the `plt.bar()` to create the bar plot, passing in the categories and heights of the bars.\n",
    "\n",
    "Use `plt.title()`, `plt.xlabel()`, and `plt.ylabel()` to set the title, x-axis label, and y-axis label, respectively. \n",
    "\n",
    "Use `plt.xticks()` to rotate labels on the x-axis of a plot. The parameters `rotation=45, horizontalalignment='right'` can be passed in to rotate the labels by 45 degrees and align the labels to the right. \n",
    "\n",
    "Use `plt.show()` to display a plot.\n",
    "\n",
    "</details>"
   ]
  },
  {
   "cell_type": "markdown",
   "id": "1ab8ea88",
   "metadata": {
    "id": "441c0e4b-56bf-413c-9d40-abe1e5f13253"
   },
   "source": [
    "**Question:** What do you observe from this bar plot? "
   ]
  },
  {
   "cell_type": "markdown",
   "id": "79c75256",
   "metadata": {
    "id": "p_XNHFiPlVvA"
   },
   "source": [
    "The AI industry has the maximum valuation among other unicorn industries."
   ]
  },
  {
   "cell_type": "markdown",
   "id": "feab46c9",
   "metadata": {
    "id": "c77e7f0f-d2b9-4464-8a7c-9575d1e1ef9f"
   },
   "source": [
    "## Considerations"
   ]
  },
  {
   "cell_type": "markdown",
   "id": "08cf5506",
   "metadata": {
    "id": "uPq1FOvCZI6w"
   },
   "source": [
    "**What are some key takeaways that you learned from this lab?**"
   ]
  },
  {
   "cell_type": "markdown",
   "id": "4e33b3e9",
   "metadata": {
    "id": "nOPK-j3sZLsm"
   },
   "source": [
    "I have learnt EDA, data cleaning, data viz, transformatin and reproducebility methods."
   ]
  },
  {
   "cell_type": "markdown",
   "id": "873ea81f",
   "metadata": {
    "id": "d2NnpyO_ZL6x"
   },
   "source": [
    "**What findings would you share with others?**"
   ]
  },
  {
   "cell_type": "markdown",
   "id": "a6f8cd3d",
   "metadata": {
    "id": "goG0jEeQZOIr"
   },
   "source": [
    "The artificial intelligence has the maximum valuation among other industries and these companies are growing at high pace and took shortest time to get the unicorn status."
   ]
  },
  {
   "cell_type": "markdown",
   "id": "28d5bbf8",
   "metadata": {
    "id": "TLioKMc0ZTZi"
   },
   "source": [
    "**What recommendations would you share with stakeholders based on these findings?**"
   ]
  },
  {
   "cell_type": "markdown",
   "id": "05bad18b",
   "metadata": {
    "id": "mVFm54BfZTv5"
   },
   "source": [
    "To invest in AI industry and with the help of global current scenario."
   ]
  },
  {
   "cell_type": "markdown",
   "id": "83f0f480",
   "metadata": {
    "id": "R9sAADZgr-YI"
   },
   "source": [
    "**References**\n",
    "\n",
    "Bhat, M.A. (2022, March). [*Unicorn Companies*](https://www.kaggle.com/datasets/mysarahmadbhat/unicorn-companies). \n",
    "\n"
   ]
  },
  {
   "cell_type": "markdown",
   "id": "67a43505",
   "metadata": {},
   "source": [
    "**Congratulations!** You've completed this lab. However, you may not notice a green check mark next to this item on Coursera's platform. Please continue your progress regardless of the check mark. Just click on the \"save\" icon at the top of this notebook to ensure your work has been logged."
   ]
  }
 ],
 "metadata": {
  "colab": {
   "collapsed_sections": [],
   "name": "SR-005_Learner_Facing_Lab_Round4.ipynb",
   "provenance": [],
   "toc_visible": true
  },
  "kernelspec": {
   "display_name": "Python 3 (ipykernel)",
   "language": "python",
   "name": "python3"
  },
  "language_info": {
   "codemirror_mode": {
    "name": "ipython",
    "version": 3
   },
   "file_extension": ".py",
   "mimetype": "text/x-python",
   "name": "python",
   "nbconvert_exporter": "python",
   "pygments_lexer": "ipython3",
   "version": "3.11.4"
  },
  "toc-autonumbering": false,
  "toc-showtags": false
 },
 "nbformat": 4,
 "nbformat_minor": 5
}
